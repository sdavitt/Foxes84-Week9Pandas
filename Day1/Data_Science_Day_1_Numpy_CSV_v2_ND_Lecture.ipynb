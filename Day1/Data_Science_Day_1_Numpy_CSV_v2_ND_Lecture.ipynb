{
 "cells": [
  {
   "cell_type": "markdown",
   "metadata": {},
   "source": [
    "# Data Science Numpy & CSV's"
   ]
  },
  {
   "cell_type": "markdown",
   "metadata": {},
   "source": [
    "## Tasks Today:\n",
    "\n",
    "1) <b>Numpy</b> <br>\n",
    " &nbsp;&nbsp;&nbsp;&nbsp; a) Python List Comparison <br>\n",
    " &nbsp;&nbsp;&nbsp;&nbsp; b) In-Class Exercise #1 <br>\n",
    " &nbsp;&nbsp;&nbsp;&nbsp; c) Importing <br>\n",
    " &nbsp;&nbsp;&nbsp;&nbsp; d) Creating an NDArray <br>\n",
    " &nbsp;&nbsp;&nbsp;&nbsp;&nbsp;&nbsp;&nbsp;&nbsp; - np.array() <br>\n",
    " &nbsp;&nbsp;&nbsp;&nbsp;&nbsp;&nbsp;&nbsp;&nbsp; - np.zeros() <br>\n",
    " &nbsp;&nbsp;&nbsp;&nbsp;&nbsp;&nbsp;&nbsp;&nbsp; - np.ones() <br>\n",
    " &nbsp;&nbsp;&nbsp;&nbsp;&nbsp;&nbsp;&nbsp;&nbsp; - np.arange() <br>\n",
    " &nbsp;&nbsp;&nbsp;&nbsp;&nbsp;&nbsp;&nbsp;&nbsp; - Making Lists into NDArrays <br>\n",
    " &nbsp;&nbsp;&nbsp;&nbsp; e) Performing Calculations on NDArrays <br>\n",
    " &nbsp;&nbsp;&nbsp;&nbsp;&nbsp;&nbsp;&nbsp;&nbsp; - Summation <br>\n",
    " &nbsp;&nbsp;&nbsp;&nbsp;&nbsp;&nbsp;&nbsp;&nbsp; - Difference <br>\n",
    " &nbsp;&nbsp;&nbsp;&nbsp;&nbsp;&nbsp;&nbsp;&nbsp; - Multiplication <br>\n",
    " &nbsp;&nbsp;&nbsp;&nbsp;&nbsp;&nbsp;&nbsp;&nbsp; - Division <br>\n",
    " &nbsp;&nbsp;&nbsp;&nbsp; f) Numpy Subsetting <br>\n",
    " &nbsp;&nbsp;&nbsp;&nbsp; g) Multi-dimensional Arrays <br>\n",
    " &nbsp;&nbsp;&nbsp;&nbsp; h) Indexing NDArrays <br>\n",
    " &nbsp;&nbsp;&nbsp;&nbsp; i) Checking NDArray Type <br>\n",
    " &nbsp;&nbsp;&nbsp;&nbsp; j) Altering NDArray Type <br>\n",
    " &nbsp;&nbsp;&nbsp;&nbsp; k) Checking the Shape <br>\n",
    " &nbsp;&nbsp;&nbsp;&nbsp; l) Altering the Shape <br>\n",
    " &nbsp;&nbsp;&nbsp;&nbsp; m) In-Class Exercise #2 <br>\n",
    " &nbsp;&nbsp;&nbsp;&nbsp; n) Complex Indexing & Assigning <br>\n",
    " &nbsp;&nbsp;&nbsp;&nbsp; o) Elementwise Multplication <br>\n",
    " &nbsp;&nbsp;&nbsp;&nbsp; p) np.where() <br>\n",
    " &nbsp;&nbsp;&nbsp;&nbsp; q) Random Sampling <br>\n",
    "\n",
    "2) <b>Working With CSV's</b> <br>\n",
    " &nbsp;&nbsp;&nbsp;&nbsp; a) Imports <br>\n",
    " &nbsp;&nbsp;&nbsp;&nbsp; b) Reading a CSV <br>\n",
    " &nbsp;&nbsp;&nbsp;&nbsp; c) Loading a CSV's Data <br>\n",
    " &nbsp;&nbsp;&nbsp;&nbsp; d) Checking Number of Records <br>\n",
    " \n",
    "3) <b>Exercises</b> <br>\n",
    " &nbsp;&nbsp;&nbsp;&nbsp; a) #1 - Calculate BMI with NDArrays <br>\n",
    " &nbsp;&nbsp;&nbsp;&nbsp; b) #2 - Find the Average Sum of Marathon Runners <br>\n",
    " &nbsp;&nbsp;&nbsp;&nbsp; c) #3 - Random Matrix Function <br>\n",
    " &nbsp;&nbsp;&nbsp;&nbsp; d) #4 - Comparing Boston Red Sox Hitting Numbers <br>"
   ]
  },
  {
   "cell_type": "markdown",
   "metadata": {},
   "source": [
    "## Numpy <br>\n",
    "\n",
    "<p>NumPy is a library for the Python programming language, adding support for large, multi-dimensional arrays and matrices, along with a large collection of high-level mathematical functions to operate on these arrays.</p>\n",
    "<ul>\n",
    "    <li>Shape = Rows & Columns</li>\n",
    "    <li>Matrix = Entire Array</li>\n",
    "    <li>Vector = Variables to be applied (same vector as the one used in physics)</li>\n",
    "    <li>Array = Similar to lists</li>\n",
    "</ul>"
   ]
  },
  {
   "cell_type": "markdown",
   "metadata": {},
   "source": [
    "#### Python List Comparison"
   ]
  },
  {
   "cell_type": "markdown",
   "metadata": {},
   "source": [
    "<p>Lists are flexible, dynamic python objects that do their job quite well. But they do not support some mathematical operations in an intuitive way. Consider the summation of two lists, $l_1$ and $l_2$</p>"
   ]
  },
  {
   "cell_type": "code",
   "execution_count": 1,
   "metadata": {},
   "outputs": [
    {
     "data": {
      "text/plain": [
       "[1, 2, 3, 4, 5, 6]"
      ]
     },
     "execution_count": 1,
     "metadata": {},
     "output_type": "execute_result"
    }
   ],
   "source": [
    "# create two lists and sum both of them together (results may not be what you expect)\n",
    "l_1 = [1,2,3]\n",
    "l_2 = [4,5,6]\n",
    "# elementwise addition -> summation of values at shared indices\n",
    "# l_1 = [1, 2, 3]\n",
    "# sum =  +  +  +\n",
    "# l_2 = [4, 5, 6]\n",
    "# sum = [5, 7, 9]\n",
    "l_1 + l_2\n",
    "# not elementwise addition -> typical python makes addition of lists just list concatenation"
   ]
  },
  {
   "cell_type": "markdown",
   "metadata": {},
   "source": [
    "<p>If we wanted to sum lists elementwise, we could write our own function that does the job entirely within the framework of python</p>"
   ]
  },
  {
   "cell_type": "markdown",
   "metadata": {},
   "source": [
    "#### In-Class Exercise #1 - Write a function that sums the indexes of two lists <br>\n",
    "<p>Ex: [2, 3, 4] + [1, 5, 2] = [3, 8, 6]</p>"
   ]
  },
  {
   "cell_type": "code",
   "execution_count": 6,
   "metadata": {},
   "outputs": [
    {
     "data": {
      "text/plain": [
       "[3, 8, 6, 9, 10, 15]"
      ]
     },
     "execution_count": 6,
     "metadata": {},
     "output_type": "execute_result"
    }
   ],
   "source": [
    "# make this work for lists of different lengths\n",
    "\n",
    "def elementwiseSum(a1, a2):\n",
    "    out = []\n",
    "    i = 0\n",
    "    while i < len(a1) and i < len(a2):\n",
    "        out.append(a1[i] + a2[i])\n",
    "        i+=1\n",
    "    if i < len(a1):\n",
    "        out = out + a1[i:]\n",
    "    elif i < len(a2):\n",
    "        out = out + a2[i:]\n",
    "    return out\n",
    "\n",
    "elementwiseSum([2,3,4,9,10,15], [1,5,2])"
   ]
  },
  {
   "cell_type": "code",
   "execution_count": 8,
   "metadata": {
    "scrolled": true
   },
   "outputs": [
    {
     "ename": "TypeError",
     "evalue": "unsupported operand type(s) for -: 'list' and 'list'",
     "output_type": "error",
     "traceback": [
      "\u001b[1;31m---------------------------------------------------------------------------\u001b[0m",
      "\u001b[1;31mTypeError\u001b[0m                                 Traceback (most recent call last)",
      "\u001b[1;32m<ipython-input-8-926859be53d7>\u001b[0m in \u001b[0;36m<module>\u001b[1;34m\u001b[0m\n\u001b[0;32m      1\u001b[0m \u001b[1;31m# What about subtracting two lists?\u001b[0m\u001b[1;33m\u001b[0m\u001b[1;33m\u001b[0m\u001b[1;33m\u001b[0m\u001b[0m\n\u001b[1;32m----> 2\u001b[1;33m \u001b[0ml_1\u001b[0m \u001b[1;33m-\u001b[0m \u001b[0ml_2\u001b[0m\u001b[1;33m\u001b[0m\u001b[1;33m\u001b[0m\u001b[0m\n\u001b[0m\u001b[0;32m      3\u001b[0m \u001b[1;31m# oh... :(\u001b[0m\u001b[1;33m\u001b[0m\u001b[1;33m\u001b[0m\u001b[1;33m\u001b[0m\u001b[0m\n",
      "\u001b[1;31mTypeError\u001b[0m: unsupported operand type(s) for -: 'list' and 'list'"
     ]
    }
   ],
   "source": [
    "# What about subtracting two lists?\n",
    "l_1 - l_2\n",
    "# oh... :("
   ]
  },
  {
   "cell_type": "markdown",
   "metadata": {},
   "source": [
    "#### Importing"
   ]
  },
  {
   "cell_type": "code",
   "execution_count": 2,
   "metadata": {},
   "outputs": [
    {
     "name": "stdout",
     "output_type": "stream",
     "text": [
      "Requirement already satisfied: numpy in c:\\programdata\\anaconda3\\lib\\site-packages (1.20.1)\n"
     ]
    }
   ],
   "source": [
    "# always import as np, standard across all of data science\n",
    "!pip install numpy\n",
    "import numpy as np"
   ]
  },
  {
   "cell_type": "markdown",
   "metadata": {},
   "source": [
    "#### Creating an NDArray <br>\n",
    "<p>NumPy is based around a class called the $\\textit{NDArray}$, which is a flexible vector / matrix class that implements the intuitive matrix and vector arithmatic lacking in basic Python. Let's start by creating some NDArrays:</p>"
   ]
  },
  {
   "cell_type": "markdown",
   "metadata": {},
   "source": [
    "###### - np.array()"
   ]
  },
  {
   "cell_type": "code",
   "execution_count": 10,
   "metadata": {},
   "outputs": [
    {
     "name": "stdout",
     "output_type": "stream",
     "text": [
      "<class 'numpy.ndarray'> [1 2 3]\n"
     ]
    }
   ],
   "source": [
    "arr1 = np.array([1,2,3])\n",
    "print(type(arr1), arr1)"
   ]
  },
  {
   "cell_type": "markdown",
   "metadata": {},
   "source": [
    "###### - np.zeros()"
   ]
  },
  {
   "cell_type": "code",
   "execution_count": 20,
   "metadata": {},
   "outputs": [
    {
     "name": "stdout",
     "output_type": "stream",
     "text": [
      "<class 'numpy.ndarray'>\n",
      "[[0. 0. 0.]\n",
      " [0. 0. 0.]\n",
      " [0. 0. 0.]]\n"
     ]
    },
    {
     "data": {
      "text/plain": [
       "array([[0., 0., 0.],\n",
       "       [0., 0., 0.],\n",
       "       [0., 0., 0.]])"
      ]
     },
     "execution_count": 20,
     "metadata": {},
     "output_type": "execute_result"
    }
   ],
   "source": [
    "# Shape -- np.zeros() has a parameter of \"shape\" that must be given\n",
    "# shape is a tuple (rows, columns)\n",
    "arr0s = np.zeros((3,3))\n",
    "print(type(arr0s))\n",
    "print(arr0s)\n",
    "arr0s # jupyter notebook automatically shows an 'output' representation of the last line of code"
   ]
  },
  {
   "cell_type": "markdown",
   "metadata": {},
   "source": [
    "###### - np.ones()"
   ]
  },
  {
   "cell_type": "code",
   "execution_count": 16,
   "metadata": {},
   "outputs": [
    {
     "name": "stdout",
     "output_type": "stream",
     "text": [
      "[[1. 1.]\n",
      " [1. 1.]]\n",
      "[[1 1 1 1]\n",
      " [1 1 1 1]\n",
      " [1 1 1 1]\n",
      " [1 1 1 1]\n",
      " [1 1 1 1]]\n"
     ]
    }
   ],
   "source": [
    "arr1s = np.ones((2,2))\n",
    "print(arr1s)\n",
    "\n",
    "arr1s = np.ones((5,4), int)\n",
    "print(arr1s)\n",
    "\n",
    "# notice no dots after the numbers, because we specified the datatype to be integer"
   ]
  },
  {
   "cell_type": "markdown",
   "metadata": {},
   "source": [
    "###### - np.arange()"
   ]
  },
  {
   "cell_type": "code",
   "execution_count": 17,
   "metadata": {},
   "outputs": [
    {
     "name": "stdout",
     "output_type": "stream",
     "text": [
      "[ 1  2  3  4  5  6  7  8  9 10 11]\n"
     ]
    }
   ],
   "source": [
    "# start, stop\n",
    "# not inclusive of the stop just like range()\n",
    "arrR = np.arange(1, 12)\n",
    "print(arrR)"
   ]
  },
  {
   "cell_type": "markdown",
   "metadata": {},
   "source": [
    "###### - Making Lists into NDArrays"
   ]
  },
  {
   "cell_type": "code",
   "execution_count": 24,
   "metadata": {},
   "outputs": [
    {
     "data": {
      "text/plain": [
       "array([1, 2, 3])"
      ]
     },
     "execution_count": 24,
     "metadata": {},
     "output_type": "execute_result"
    }
   ],
   "source": [
    "arrl1 = np.array(l_1)\n",
    "arrl1"
   ]
  },
  {
   "cell_type": "code",
   "execution_count": 25,
   "metadata": {},
   "outputs": [
    {
     "data": {
      "text/plain": [
       "array([4, 5, 6])"
      ]
     },
     "execution_count": 25,
     "metadata": {},
     "output_type": "execute_result"
    }
   ],
   "source": [
    "arrl2 = np.array(l_2)\n",
    "arrl2"
   ]
  },
  {
   "cell_type": "markdown",
   "metadata": {},
   "source": [
    "#### Performing Calculations on NDArrays"
   ]
  },
  {
   "cell_type": "markdown",
   "metadata": {},
   "source": [
    "###### - Summation"
   ]
  },
  {
   "cell_type": "code",
   "execution_count": 27,
   "metadata": {
    "scrolled": true
   },
   "outputs": [
    {
     "name": "stdout",
     "output_type": "stream",
     "text": [
      "[1, 2, 3, 4, 5, 6]\n"
     ]
    },
    {
     "data": {
      "text/plain": [
       "array([5, 7, 9])"
      ]
     },
     "execution_count": 27,
     "metadata": {},
     "output_type": "execute_result"
    }
   ],
   "source": [
    "print(l_1 + l_2) # normal python - concatenation\n",
    "arrl1 + arrl2 # NDArrays - elementwise summation"
   ]
  },
  {
   "cell_type": "markdown",
   "metadata": {},
   "source": [
    "###### - Difference"
   ]
  },
  {
   "cell_type": "code",
   "execution_count": 42,
   "metadata": {},
   "outputs": [
    {
     "data": {
      "text/plain": [
       "array([  5,   5,   5,   5, 106,   1])"
      ]
     },
     "execution_count": 42,
     "metadata": {},
     "output_type": "execute_result"
    }
   ],
   "source": [
    "arrA = np.array([10, 20, 30, 50, 127, 4])\n",
    "arrB = np.array([5, 15, 25, 45, 21, 3])\n",
    "arrA-arrB # elementwise subtraction"
   ]
  },
  {
   "cell_type": "markdown",
   "metadata": {},
   "source": [
    "###### - Multiplication"
   ]
  },
  {
   "cell_type": "code",
   "execution_count": 43,
   "metadata": {},
   "outputs": [
    {
     "name": "stdout",
     "output_type": "stream",
     "text": [
      "[  50  300  750 2250 2667   12]\n"
     ]
    }
   ],
   "source": [
    "arrMulti = arrA * arrB # elementwise!\n",
    "print(arrMulti)"
   ]
  },
  {
   "cell_type": "markdown",
   "metadata": {},
   "source": [
    "###### - Division"
   ]
  },
  {
   "cell_type": "code",
   "execution_count": 44,
   "metadata": {},
   "outputs": [
    {
     "name": "stdout",
     "output_type": "stream",
     "text": [
      "[2.         1.33333333 1.2        1.11111111 6.04761905 1.33333333] float64\n"
     ]
    }
   ],
   "source": [
    "arrC = arrA/arrB\n",
    "print(arrC, arrC.dtype) # default dtype of division is float64"
   ]
  },
  {
   "cell_type": "markdown",
   "metadata": {},
   "source": [
    "#### Modulo"
   ]
  },
  {
   "cell_type": "code",
   "execution_count": 45,
   "metadata": {},
   "outputs": [
    {
     "data": {
      "text/plain": [
       "array([0, 5, 5, 5, 1, 1], dtype=int32)"
      ]
     },
     "execution_count": 45,
     "metadata": {},
     "output_type": "execute_result"
    }
   ],
   "source": [
    "arrA%arrB # remainder after floor division\n",
    "# dtype? what?\n",
    "# unlike python lists, NDarrays must contain only one type of data\n",
    "# and those datatypes can be slightly different than the traditional python datatypes\n",
    "# aka different sizes of integers or floats\n",
    "# here we see int32 aka a 32bit integer\n",
    "    # an int32 has a minimum value of -2.147 billion and maximum value of 2.147 billion (approximately)\n",
    "    "
   ]
  },
  {
   "cell_type": "markdown",
   "metadata": {},
   "source": [
    "#### Floor Division"
   ]
  },
  {
   "cell_type": "code",
   "execution_count": 46,
   "metadata": {},
   "outputs": [
    {
     "data": {
      "text/plain": [
       "array([2, 1, 1, 1, 6, 1], dtype=int32)"
      ]
     },
     "execution_count": 46,
     "metadata": {},
     "output_type": "execute_result"
    }
   ],
   "source": [
    "arrA//arrB # largest integer divisor"
   ]
  },
  {
   "cell_type": "markdown",
   "metadata": {},
   "source": [
    "#### Numpy Subsetting"
   ]
  },
  {
   "cell_type": "code",
   "execution_count": 51,
   "metadata": {},
   "outputs": [
    {
     "name": "stdout",
     "output_type": "stream",
     "text": [
      "[  50  300  750 2250 2667   12]\n",
      "[ True  True  True False False  True]\n",
      "[  50  300  750 2250 2667   12]\n",
      "[ 50 300 750  12]\n"
     ]
    }
   ],
   "source": [
    "# subsetting is essentially performing an elementwise conditional check\n",
    "print(arrMulti)\n",
    "# conditional check, returns true or false\n",
    "print(arrMulti <= 800)\n",
    "# returns another NDarray containing True or False for that conditional check for each element\n",
    "\n",
    "# conditional check, that returns the elements that meet the given condition\n",
    "# aka filtering the original NDarray by a condition\n",
    "under800 = arrMulti[arrMulti <= 800]\n",
    "print(arrMulti) # most operations performed on a NDarray are out of place by default - to maintain data integrity\n",
    "print(under800)"
   ]
  },
  {
   "cell_type": "markdown",
   "metadata": {},
   "source": [
    "#### Multi-dimensional Arrays <br>\n",
    "<p>NumPy seamlessly supports multidimensional arrays and matrices of arbitrary dimension without nesting NDArrays. NDArrays themselves are flexible and extensible and may be defined with such dimensions, with a rich API of common functions to facilitate their use. Let's start by building a two dimensional 3x3 matrix by conversion from a nested group of core python lists $M = [l_0, l_1, l_2]$:</p>"
   ]
  },
  {
   "cell_type": "code",
   "execution_count": 54,
   "metadata": {},
   "outputs": [
    {
     "name": "stdout",
     "output_type": "stream",
     "text": [
      "[[0, 1, 2], [3, 4, 5], [6, 7, 8]]\n",
      "4\n"
     ]
    },
    {
     "data": {
      "text/plain": [
       "array([[0, 1, 2],\n",
       "       [3, 4, 5],\n",
       "       [6, 7, 8]])"
      ]
     },
     "execution_count": 54,
     "metadata": {},
     "output_type": "execute_result"
    }
   ],
   "source": [
    "aList = [0,1,2]\n",
    "bList = [3,4,5]\n",
    "cList = [6,7,8]\n",
    "\n",
    "# first step: convert lists into a Matrix (aka a nested/multidimensional list)\n",
    "M = [aList, bList, cList]\n",
    "print(M)\n",
    "print(M[1][1])\n",
    "\n",
    "\n",
    "\n",
    "# second step: place Matrix inside NDArray\n",
    "ND_M = np.array(M)\n",
    "ND_M"
   ]
  },
  {
   "cell_type": "markdown",
   "metadata": {},
   "source": [
    "#### Indexing NDArrays <br>\n",
    "<p> Similar to lists within lists; however, the syntax looks more like C programming language.... It is [1, 2] to access the second row, third element.</p>"
   ]
  },
  {
   "cell_type": "code",
   "execution_count": 58,
   "metadata": {},
   "outputs": [
    {
     "name": "stdout",
     "output_type": "stream",
     "text": [
      "4\n",
      "0\n"
     ]
    }
   ],
   "source": [
    "# can be done just like python\n",
    "ND_M[1][1]\n",
    "\n",
    "# intended to be done with numpy syntax\n",
    "# ND_M[row, column] (STILL BASE 0 INDEXING!)\n",
    "# so to get the 4.... (middle element)\n",
    "print(ND_M[1,1])\n",
    "# get the 0 (top left element)\n",
    "print(ND_M[0,0])"
   ]
  },
  {
   "cell_type": "markdown",
   "metadata": {},
   "source": [
    "#### Assigning Values in NDArrays"
   ]
  },
  {
   "cell_type": "code",
   "execution_count": 64,
   "metadata": {},
   "outputs": [
    {
     "name": "stdout",
     "output_type": "stream",
     "text": [
      "[[0 1 2]\n",
      " [3 1 5]\n",
      " [6 7 8]]\n",
      "[[0 1 2]\n",
      " [3 1 5]\n",
      " [6 7 8]]\n",
      "int32\n"
     ]
    }
   ],
   "source": [
    "print(ND_M)\n",
    "ND_M[1,1] = 1.908237098\n",
    "print(ND_M)"
   ]
  },
  {
   "cell_type": "markdown",
   "metadata": {},
   "source": [
    "<p>Notice above how we ended up with a 1 in the target element's place. This is a data type issue. The .dtype() method is supported by all NDArrays, as well as the .astype() method for casting between data types:</p>"
   ]
  },
  {
   "cell_type": "markdown",
   "metadata": {},
   "source": [
    "#### Checking NDArray Type"
   ]
  },
  {
   "cell_type": "code",
   "execution_count": 65,
   "metadata": {},
   "outputs": [
    {
     "name": "stdout",
     "output_type": "stream",
     "text": [
      "int32\n"
     ]
    }
   ],
   "source": [
    "# usind the .dtype attribute\n",
    "print(ND_M.dtype)"
   ]
  },
  {
   "cell_type": "markdown",
   "metadata": {},
   "source": [
    "#### Altering NDArray Type"
   ]
  },
  {
   "cell_type": "code",
   "execution_count": 69,
   "metadata": {},
   "outputs": [
    {
     "name": "stdout",
     "output_type": "stream",
     "text": [
      "[[0 1 2]\n",
      " [3 1 5]\n",
      " [6 7 8]] int32\n",
      "[[0. 1. 2.]\n",
      " [3. 1. 5.]\n",
      " [6. 7. 8.]] float32\n",
      "[[0.        1.        2.       ]\n",
      " [3.        1.9082371 5.       ]\n",
      " [6.        7.        8.       ]] float32\n"
     ]
    }
   ],
   "source": [
    "# NDArray.astype(<numpydatatype>)\n",
    "print(ND_M, ND_M.dtype)\n",
    "changed = ND_M.astype(np.float32)\n",
    "print(changed, changed.dtype)\n",
    "changed[1,1] = 1.908237098\n",
    "print(changed, changed.dtype)"
   ]
  },
  {
   "cell_type": "markdown",
   "metadata": {},
   "source": [
    "#### Checking the Shape <br>\n",
    "<p>The behavior and properties of an NDArray are often sensitively dependent on the $\\textit{shape}$ of the NDArray itself. The shape of an array can be found by calling the .shape method, which will return a tuple containing the array's dimensions:</p>"
   ]
  },
  {
   "cell_type": "code",
   "execution_count": 71,
   "metadata": {},
   "outputs": [
    {
     "data": {
      "text/plain": [
       "(3, 3)"
      ]
     },
     "execution_count": 71,
     "metadata": {},
     "output_type": "execute_result"
    }
   ],
   "source": [
    "# shape is always rows x columns\n",
    "# Checking the Shape of the ND_M Numpy Array\n",
    "\n",
    "# Using the method .shape\n",
    "ND_M.shape # tuple of (rows, columns)"
   ]
  },
  {
   "cell_type": "markdown",
   "metadata": {},
   "source": [
    "#### Altering the Shape <br>\n",
    "<p>As long as the number of elements remains fixed, we can reshape NDArrays at will:</p>"
   ]
  },
  {
   "cell_type": "code",
   "execution_count": 78,
   "metadata": {},
   "outputs": [
    {
     "name": "stdout",
     "output_type": "stream",
     "text": [
      "[[0 1 2]\n",
      " [3 1 5]\n",
      " [6 7 8]]\n",
      "[[0 1 2 3 1 5 6 7 8]] (1, 9)\n"
     ]
    }
   ],
   "source": [
    "# Change the shape of the numpy array\n",
    "# Using the method .reshape()\n",
    "print(ND_M)\n",
    "# The reshape should be a multiple of the original shape\n",
    "    # must have same total elements\n",
    "# Meaning we can have a shape of (1,9) or (9,1) or (3,3)\n",
    "# (9,1) == 9 rows , 1 column\n",
    "\n",
    "# NDArray.reshape(<tuple of rows, columns>)\n",
    "reshaped = ND_M.reshape((1,9))\n",
    "# out of place - won't modify original\n",
    "print(reshaped, reshaped.shape)\n"
   ]
  },
  {
   "cell_type": "code",
   "execution_count": 79,
   "metadata": {},
   "outputs": [
    {
     "name": "stdout",
     "output_type": "stream",
     "text": [
      "[[0]\n",
      " [1]\n",
      " [2]\n",
      " [3]\n",
      " [1]\n",
      " [5]\n",
      " [6]\n",
      " [7]\n",
      " [8]] (9, 1)\n"
     ]
    }
   ],
   "source": [
    "# keep in mind that the shape numbers do matter, (9, 1) is different than (1, 9)\n",
    "otherreshape = ND_M.reshape((9,1))\n",
    "print(otherreshape, otherreshape.shape)"
   ]
  },
  {
   "cell_type": "markdown",
   "metadata": {},
   "source": [
    "#### In-Class Exercise #2 - Create a matrix of range 0 up to 16 and reshape it into a 4x4 matrice"
   ]
  },
  {
   "cell_type": "code",
   "execution_count": 6,
   "metadata": {},
   "outputs": [
    {
     "name": "stdout",
     "output_type": "stream",
     "text": [
      "[ 0  1  2  3  4  5  6  7  8  9 10 11 12 13 14 15] (16,)\n"
     ]
    },
    {
     "data": {
      "text/plain": [
       "array([[ 0,  1,  2,  3],\n",
       "       [ 4,  5,  6,  7],\n",
       "       [ 8,  9, 10, 11],\n",
       "       [12, 13, 14, 15]])"
      ]
     },
     "execution_count": 6,
     "metadata": {},
     "output_type": "execute_result"
    }
   ],
   "source": [
    "\"\"\"\n",
    "OUTPUT\n",
    "    array([[ 0,  1,  2,  3],\n",
    "       [ 4,  5,  6,  7],\n",
    "       [ 8,  9, 10, 11],\n",
    "       [12, 13, 14, 15]])\n",
    "\"\"\"\n",
    "# np.arange()\n",
    "# NDArray.reshape()\n",
    "arr = np.arange(0, 16)\n",
    "print(arr, arr.shape)\n",
    "arr = arr.reshape((4,4))\n",
    "arr\n",
    "\n"
   ]
  },
  {
   "cell_type": "markdown",
   "metadata": {},
   "source": [
    "#### Complex Indexing & Assinging"
   ]
  },
  {
   "cell_type": "code",
   "execution_count": 45,
   "metadata": {},
   "outputs": [
    {
     "name": "stdout",
     "output_type": "stream",
     "text": [
      "Starting matrix:\n",
      "[[0. 0. 0. 0. 0. 0.]\n",
      " [0. 0. 0. 0. 0. 0.]\n",
      " [0. 0. 0. 0. 0. 0.]\n",
      " [0. 0. 0. 0. 0. 0.]\n",
      " [0. 0. 0. 0. 0. 0.]\n",
      " [0. 0. 0. 0. 0. 0.]]\n",
      "\n",
      "Assigning first element in each row to 1:\n",
      "[[1. 0. 0. 0. 0. 0.]\n",
      " [1. 0. 0. 0. 0. 0.]\n",
      " [1. 0. 0. 0. 0. 0.]\n",
      " [1. 0. 0. 0. 0. 0.]\n",
      " [1. 0. 0. 0. 0. 0.]\n",
      " [1. 0. 0. 0. 0. 0.]]\n",
      "\n",
      "Adding some 5s:\n",
      "[[1. 0. 0. 0. 0. 0.]\n",
      " [1. 0. 0. 0. 0. 0.]\n",
      " [1. 0. 0. 0. 0. 0.]\n",
      " [1. 0. 0. 5. 5. 0.]\n",
      " [1. 0. 0. 5. 5. 0.]\n",
      " [1. 0. 0. 0. 0. 0.]]\n",
      "\n",
      "Reset to 0s:\n",
      "[[0. 0. 0. 0. 0. 0.]\n",
      " [0. 0. 0. 0. 0. 0.]\n",
      " [0. 0. 0. 0. 0. 0.]\n",
      " [0. 0. 0. 0. 0. 0.]\n",
      " [0. 0. 0. 0. 0. 0.]\n",
      " [0. 0. 0. 0. 0. 0.]]\n",
      "\n",
      "Set 2nd and 3rd columns to 2:\n",
      "[[0. 2. 2. 0. 0. 0.]\n",
      " [0. 2. 2. 0. 0. 0.]\n",
      " [0. 2. 2. 0. 0. 0.]\n",
      " [0. 2. 2. 0. 0. 0.]\n",
      " [0. 2. 2. 0. 0. 0.]\n",
      " [0. 2. 2. 0. 0. 0.]]\n",
      "\n",
      "Make a vector aka 1D array\n",
      "[1 2 3 4 5 6]\n",
      "\n",
      "Reset to 0s:\n",
      "[[0. 0. 0. 0. 0. 0.]\n",
      " [0. 0. 0. 0. 0. 0.]\n",
      " [0. 0. 0. 0. 0. 0.]\n",
      " [0. 0. 0. 0. 0. 0.]\n",
      " [0. 0. 0. 0. 0. 0.]\n",
      " [0. 0. 0. 0. 0. 0.]]\n",
      "\n",
      "First row to vector:\n",
      "[[1. 2. 3. 4. 5. 6.]\n",
      " [0. 0. 0. 0. 0. 0.]\n",
      " [0. 0. 0. 0. 0. 0.]\n",
      " [0. 0. 0. 0. 0. 0.]\n",
      " [0. 0. 0. 0. 0. 0.]\n",
      " [0. 0. 0. 0. 0. 0.]]\n",
      "\n",
      "Make a 3x3 NDArray:\n",
      "[[10 20 30]\n",
      " [40 50 60]\n",
      " [70 80 90]]\n",
      "\n",
      "Assign 3x3 to bottom right corner\n",
      "[[ 1.  2.  3.  4.  5.  6.]\n",
      " [ 0.  0.  0.  0.  0.  0.]\n",
      " [ 0.  0.  0.  0.  0.  0.]\n",
      " [ 0.  0.  0. 10. 20. 30.]\n",
      " [ 0.  0.  0. 40. 50. 60.]\n",
      " [ 0.  0.  0. 70. 80. 90.]]\n"
     ]
    }
   ],
   "source": [
    "M = np.zeros((6,6))\n",
    "print('Starting matrix:')\n",
    "print(M)\n",
    "\n",
    "# you can use list slicing syntax in your indexing/assignment of an NDarray\n",
    "print('\\nAssigning first element in each row to 1:')\n",
    "# Set every first element in each row to 1\n",
    "M[:, 0] = 1\n",
    "print(M)\n",
    "\n",
    "# Set all elements in axis 3 to 5 (Excluding 5) to be equal to the number 5\n",
    "print('\\nAdding some 5s:')\n",
    "M[3:5,3:5] = 5\n",
    "print(M)\n",
    "\n",
    "# reset the matrix back to 0\n",
    "print('\\nReset to 0s:')\n",
    "M = M*0\n",
    "print(M)\n",
    "\n",
    "# Set the second and third columns to a number == 2\n",
    "print('\\nSet 2nd and 3rd columns to 2:')\n",
    "M[:,1:3] = 2\n",
    "print(M)\n",
    "\n",
    "# Creating a vector in numpy\n",
    "print('\\nMake a vector aka 1D array')\n",
    "v = np.arange(1,7)\n",
    "print(v)\n",
    "\n",
    "# Reset the Matrix to 0\n",
    "print('\\nReset to 0s:')\n",
    "M = M*0\n",
    "print(M)\n",
    "\n",
    "# Set the first row to that range of vector numbers we just created\n",
    "print('\\nFirst row to vector:')\n",
    "M[0, :] = v\n",
    "print(M)\n",
    "\n",
    "# Make a 3x3\n",
    "print('\\nMake a 3x3 NDArray:')\n",
    "x3 = np.arange(10, 100, 10)\n",
    "x3 = x3.reshape((3,3))\n",
    "print(x3)\n",
    "\n",
    "# Use the 3x3 for values in my larger NDArray\n",
    "print('\\nAssign 3x3 to bottom right corner')\n",
    "M[3:, 3:] = x3\n",
    "print(M)\n",
    "\n",
    "#################\n",
    "# M[rows,columns]\n",
    "#################"
   ]
  },
  {
   "cell_type": "markdown",
   "metadata": {},
   "source": [
    "#### Elementwise Multiplication"
   ]
  },
  {
   "cell_type": "markdown",
   "metadata": {},
   "source": [
    "<p>As long as the shapes of NDArrays are 'compatible', they can be multiplied elementwise, broadcasted, used in inner products, and much much more. 'Compatible' in this context can mean compatible in the linear algebraic sense, i.e. for inner products and other matrix multiplication, or simply sharing a dimension in such a manner that broadcasting 'makes sense'. Here are some examples of this:</p>"
   ]
  },
  {
   "cell_type": "code",
   "execution_count": 46,
   "metadata": {},
   "outputs": [
    {
     "name": "stdout",
     "output_type": "stream",
     "text": [
      "[1 2 3 4 5 6]\n"
     ]
    },
    {
     "data": {
      "text/plain": [
       "array([[  1.,   2.,   3.,   4.,   5.,   6.],\n",
       "       [  0.,   0.,   0.,   0.,   0.,   0.],\n",
       "       [  0.,   0.,   0.,   0.,   0.,   0.],\n",
       "       [  0.,   0.,   0.,  10.,  20.,  30.],\n",
       "       [  0.,   0.,   0.,  40.,  50.,  60.],\n",
       "       [  0.,   0.,   0., 280., 400., 540.]])"
      ]
     },
     "execution_count": 46,
     "metadata": {},
     "output_type": "execute_result"
    }
   ],
   "source": [
    "# Initialize a vector of range 6, then reset Matrix to zero and run vector multiplication on the matrix\n",
    "print(v)\n",
    "M[5, :] = M[5, :]*v\n",
    "# taking the last row of our NDArray M\n",
    "    # performing elementwise multiplication with the one-dimensional NDArray (aka vector) v\n",
    "M"
   ]
  },
  {
   "cell_type": "markdown",
   "metadata": {},
   "source": [
    "#### np.where() <br>\n",
    "<p>If statement within NDArrays that allows you to run conditionals on the entire array</p>"
   ]
  },
  {
   "cell_type": "code",
   "execution_count": 53,
   "metadata": {},
   "outputs": [
    {
     "name": "stdout",
     "output_type": "stream",
     "text": [
      "[[  1.   2.   3.   4.   5.   6.]\n",
      " [  0.   0.   0.   0.   0.   0.]\n",
      " [  0.   0.   0.   0.   0.   0.]\n",
      " [  0.   0.   0.  10.  20.  30.]\n",
      " [  0.   0.   0.  40.  50.  60.]\n",
      " [  0.   0.   0. 280. 400. 540.]]\n",
      "(array([0, 0, 0, 0, 0, 0, 3, 3, 3, 4, 4, 4, 5, 5, 5], dtype=int64), array([0, 1, 2, 3, 4, 5, 3, 4, 5, 3, 4, 5, 3, 4, 5], dtype=int64))\n",
      "\n",
      "\n",
      "[  1.   2.   3.   4.   5.   6.  10.  20.  30.  40.  50.  60. 280. 400.\n",
      " 540.]\n",
      "\n",
      "\n",
      "[[  1.   2.   3.   4.   5.   6.]\n",
      " [-77. -77. -77. -77. -77. -77.]\n",
      " [-77. -77. -77. -77. -77. -77.]\n",
      " [-77. -77. -77.  10.  20.  30.]\n",
      " [-77. -77. -77.  40.  50.  60.]\n",
      " [-77. -77. -77. 280. 400. 540.]]\n"
     ]
    }
   ],
   "source": [
    "# another approach to subsetting\n",
    "\n",
    "# Transform Data based on boolean mask == True\n",
    "print(M)\n",
    "print(np.where(M>0)) # tuple of two NDArrays containing the index locations of values satisfying the conditional\n",
    "\n",
    "print('\\n')\n",
    "print(M[np.where(M>0)]) # 1D array of the values contained in the np.where()\n",
    "# this is another form of complex indexing\n",
    "# and can be used for complex assignment\n",
    "print('\\n')\n",
    "M[np.where(M==0)] = -77\n",
    "print(M)"
   ]
  },
  {
   "cell_type": "markdown",
   "metadata": {},
   "source": [
    "#### Random Sampling <br>\n",
    "<p>NumPy provides machinery to work with random numbers - something often needed in a broad spectrum of data science applications.</p>"
   ]
  },
  {
   "cell_type": "code",
   "execution_count": 66,
   "metadata": {},
   "outputs": [
    {
     "name": "stdout",
     "output_type": "stream",
     "text": [
      "Here is a random number: 0.3434389520662652\n",
      "Here is a random number between 0 and 1 Million: 7001.353208827925\n",
      "Here are 5 random numbers between 0 and 10: [2.99160899 3.6573107  3.96998805 5.88166675 6.77187098]\n",
      "Here is a 3x3 matrix with numbers between 0 and 10: \n",
      " [[7.44024796 9.00314994 6.57841268]\n",
      " [2.56292384 9.31684994 6.71200582]\n",
      " [8.6397289  8.24111727 4.7089137 ]]\n"
     ]
    }
   ],
   "source": [
    "# np.random.uniform()\n",
    "\n",
    "# A single call generates a single random number between 0 and 1\n",
    "\n",
    "print('Here is a random number: %s' % np.random.uniform())\n",
    "\n",
    "# You can also pass some parameters or bounds\n",
    "\n",
    "print('Here is a random number between 0 and 1 Million: %s' % np.random.uniform(7000, 7007))\n",
    "\n",
    "# You can also generate a bunch of random numbers all at once\n",
    "\n",
    "print('Here are 5 random numbers between 0 and 10: %s' % np.random.uniform(0, 10, 5)) # results in an NDArray\n",
    "\n",
    "# Even matrices with shapes as a parameter\n",
    "\n",
    "print('Here is a 3x3 matrix with numbers between 0 and 10: \\n %s' % np.random.uniform(0, 10, (3, 3)))"
   ]
  },
  {
   "cell_type": "markdown",
   "metadata": {},
   "source": [
    "## Working With CSV's"
   ]
  },
  {
   "cell_type": "markdown",
   "metadata": {},
   "source": [
    "#### Imports"
   ]
  },
  {
   "cell_type": "code",
   "execution_count": 67,
   "metadata": {},
   "outputs": [],
   "source": [
    "import csv\n",
    "import numpy as np\n",
    "from datetime import datetime"
   ]
  },
  {
   "cell_type": "markdown",
   "metadata": {},
   "source": [
    "#### Reading a CSV"
   ]
  },
  {
   "cell_type": "code",
   "execution_count": 77,
   "metadata": {},
   "outputs": [
    {
     "name": "stdout",
     "output_type": "stream",
     "text": [
      "['Sandy Leon', 'Mitch Moreland', 'Eduardo Nunez', 'Xander Bogaerts', 'Rafael Devers', 'Andrew Benintendi', 'Jackie Bradley Jr.', 'Mookie Betts', 'J.D. Martinez', 'Brock Holt', 'Christian Vazquez', 'Blake Swihart', 'Hanley Ramirez', 'Steve Pearce', 'Ian Kinsler', 'Tzu-Wei Lin', 'Sam Travis', 'Brandon Phillips', 'Dustin Pedroia', 'Dan Butler']\n"
     ]
    }
   ],
   "source": [
    "# Creating Function to open and read CSV data\n",
    "# reading into a list of lists - base python approach\n",
    "def open_csv(filename, delimiter=','):\n",
    "    # define an empty list to store our data\n",
    "    data = []\n",
    "    with open(filename, encoding='utf-8') as openedFile:\n",
    "        # use the csv package reader method to read that file\n",
    "        readData = csv.reader(openedFile, delimiter=delimiter)\n",
    "        # loop over that info and append the data row by row to our list\n",
    "        for row in readData:\n",
    "            data.append(row)\n",
    "    return data\n",
    "\n",
    "csv_data = open_csv('../files/redsox_2018_hitting.txt')\n",
    "#print(csv_data)\n",
    "# just using base python we can access all this data in a list of lists but its not easy to work with or well organized\n",
    "\n",
    "# I want to print all the players' names\n",
    "i = 1\n",
    "names = []\n",
    "while i < len(csv_data):\n",
    "    names.append(csv_data[i][2])\n",
    "    i+=1\n",
    "print(names)"
   ]
  },
  {
   "cell_type": "markdown",
   "metadata": {},
   "source": [
    "#### Loading a CSV's Data "
   ]
  },
  {
   "cell_type": "code",
   "execution_count": 87,
   "metadata": {},
   "outputs": [
    {
     "name": "stdout",
     "output_type": "stream",
     "text": [
      "[b'Christian Vazquez' b'Mitch Moreland' b'Dustin Pedroia'\n",
      " b'Xander Bogaerts' b'Rafael Devers' b'Andrew Benintendi'\n",
      " b'Jackie Bradley Jr.' b'Mookie Betts' b'Hanley Ramirez' b'Sandy Leon'\n",
      " b'Chris Young' b'Deven Marrero' b'Eduardo Nunez' b'Brock Holt'\n",
      " b'Josh Rutledge' b'Pablo Sandoval' b'Sam Travis' b'Tzu-Wei Lin'\n",
      " b'Marco Hernandez' b'Rajai Davis' b'Steve Selsky' b'Blake Swihart'\n",
      " b\"Chase d'Arnaud\"]\n",
      "The Red Sox got 1459 in 2017!\n",
      "The Red Sox got 1505 in 2018!\n"
     ]
    }
   ],
   "source": [
    "FIELDS = ['Rk', 'Pos', 'Name', 'Age', 'G', 'PA', 'AB', 'R', 'H', '2B', '3B', 'HR', 'RBI', 'SB', 'CS', \n",
    "          'BB', 'SO', 'BA', 'OBP', 'SLG', 'OPS', 'OPS+', 'TB', 'GDP', 'HBP', 'SH', 'SF', 'IBB']\n",
    "\n",
    "# i = integer, f = float, |s25 = string with 25 characters\n",
    "DATATYPES = [('rk', 'i'), ('pos', '|S25'), ('name', '|S25'), ('age', 'i'), ('g', 'i'), ('pa', 'i'), ('ab', 'i'),\n",
    "                ('r', 'i'), ('h', 'i'), ('2b', 'i'), ('3b', 'i'), ('hr', 'i'), ('rbi', 'i'), ('sb', 'i'), ('cs', 'i'),\n",
    "                ('bb', 'i'), ('so', 'i'), ('ba', 'f'), ('obp', 'f'), ('slg', 'f'), ('ops', 'f'), ('opsp', 'i'),\n",
    "                ('tb', 'i'), ('gdp', 'i'), ('hbp', 'i'), ('sh', 'i'), ('sf', 'i'), ('ibb', 'i')]\n",
    "\n",
    "# instead of loading csv normally, let's load it into a numpy array to calculate results on\n",
    "def load_data(filename, delimiter=','):\n",
    "    return np.genfromtxt(filename, delimiter=delimiter, skip_header=1, usecols=np.arange(0,24), invalid_raise=False, names=FIELDS, dtype=DATATYPES)\n",
    "\n",
    "bs2017 = load_data('../files/redsox_2017_hitting.txt')\n",
    "bs2018 = load_data('../files/redsox_2018_hitting.txt')\n",
    "#print(bs2017)\n",
    "\n",
    "# I want to print all the players' names\n",
    "print(bs2017['Name'])\n",
    "\n",
    "# Total number of hits\n",
    "total_hits = sum(bs2017['H'])\n",
    "print(f'The Red Sox got {total_hits} in 2017!')\n",
    "total_hits = sum(bs2018['H'])\n",
    "print(f'The Red Sox got {total_hits} in 2018!')"
   ]
  },
  {
   "cell_type": "markdown",
   "metadata": {},
   "source": [
    "#### Summing the top 5 hitters for HR's"
   ]
  },
  {
   "cell_type": "code",
   "execution_count": 103,
   "metadata": {},
   "outputs": [
    {
     "name": "stdout",
     "output_type": "stream",
     "text": [
      "Red Sox 2017 Total HRs: 168\n",
      "Red Sox 2017 Top HR Hitters:\n"
     ]
    },
    {
     "data": {
      "text/plain": [
       "[('Mookie Betts', 24),\n",
       " ('Hanley Ramirez', 23),\n",
       " ('Mitch Moreland', 22),\n",
       " ('Andrew Benintendi', 20),\n",
       " ('Jackie Bradley Jr.', 17),\n",
       " ('Xander Bogaerts', 10)]"
      ]
     },
     "execution_count": 103,
     "metadata": {},
     "output_type": "execute_result"
    }
   ],
   "source": [
    "# find the top 5 hr hitters\n",
    "\n",
    "# Step 1: Get all HR data into a variable\n",
    "# Step 2: Get all Player Names\n",
    "# Step 3: Create new list for new_names (empty to start)\n",
    "# Step 4: Decode the player names into regular strings\n",
    "# Step 5: Grab all data and place inside of a zipped list\n",
    "# Step 6: Sort values based on HR data\n",
    "\n",
    "# Step 1\n",
    "all_hr = bs2017['HR']\n",
    "#print(all_hr)\n",
    "# Step 2\n",
    "all_names = bs2017['Name']\n",
    "#print(all_names)\n",
    "\n",
    "# Step 3\n",
    "decoded_names = []\n",
    "\n",
    "# Step 4\n",
    "for name in all_names:\n",
    "    decoded_names.append(name.decode('utf-8'))\n",
    "#print(decoded_names)\n",
    "\n",
    "# Step 5\n",
    "zipped_values = list(zip(decoded_names, all_hr))\n",
    "#print(zipped_values)\n",
    "\n",
    "# Step 6\n",
    "sorted_hr = sorted(zipped_values, key = lambda x: x[1], reverse=True)\n",
    "print(f\"Red Sox 2017 Total HRs: {sum(bs2017['HR'])}\")\n",
    "print(f'Red Sox 2017 Top HR Hitters:')\n",
    "sorted_hr[0:6]"
   ]
  },
  {
   "cell_type": "code",
   "execution_count": 104,
   "metadata": {},
   "outputs": [
    {
     "name": "stdout",
     "output_type": "stream",
     "text": [
      "Red Sox 2018 Total HRs: 208\n",
      "Red Sox 2018 Top HR Hitters:\n"
     ]
    },
    {
     "data": {
      "text/plain": [
       "[('J.D. Martinez', 43),\n",
       " ('Mookie Betts', 32),\n",
       " ('Xander Bogaerts', 23),\n",
       " ('Rafael Devers', 21),\n",
       " ('Andrew Benintendi', 16),\n",
       " ('Mitch Moreland', 15)]"
      ]
     },
     "execution_count": 104,
     "metadata": {},
     "output_type": "execute_result"
    }
   ],
   "source": [
    "decoded_names = [name.decode('utf-8') for name in bs2018['Name']] # list comp decoding for 2018\n",
    "hrs = sorted(list(zip(decoded_names, bs2018['HR'])), key=lambda x: x[1], reverse=True)\n",
    "print(f\"Red Sox 2018 Total HRs: {sum(bs2018['HR'])}\")\n",
    "print(f'Red Sox 2018 Top HR Hitters:')\n",
    "hrs[0:6]"
   ]
  },
  {
   "cell_type": "code",
   "execution_count": null,
   "metadata": {},
   "outputs": [],
   "source": [
    "# Were the Red Sox a better home run hitting team in 2017 or 2018?\n",
    "# From both an individual and team perspective, the Red Sox were a better home run hitting team in 2018."
   ]
  },
  {
   "cell_type": "markdown",
   "metadata": {
    "collapsed": true
   },
   "source": [
    "# Exercises To Complete.... <br>\n",
    "<p>Given in separate file after completion of this file</p>"
   ]
  }
 ],
 "metadata": {
  "kernelspec": {
   "display_name": "Python 3",
   "language": "python",
   "name": "python3"
  },
  "language_info": {
   "codemirror_mode": {
    "name": "ipython",
    "version": 3
   },
   "file_extension": ".py",
   "mimetype": "text/x-python",
   "name": "python",
   "nbconvert_exporter": "python",
   "pygments_lexer": "ipython3",
   "version": "3.8.8"
  }
 },
 "nbformat": 4,
 "nbformat_minor": 2
}
